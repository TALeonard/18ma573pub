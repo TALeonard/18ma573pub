{
  "nbformat": 4,
  "nbformat_minor": 0,
  "metadata": {
    "colab": {
      "name": "my_first_prj.ipynb",
      "version": "0.3.2",
      "provenance": [],
      "include_colab_link": true
    },
    "kernelspec": {
      "name": "python3",
      "display_name": "Python 3"
    }
  },
  "cells": [
    {
      "cell_type": "markdown",
      "metadata": {
        "id": "view-in-github",
        "colab_type": "text"
      },
      "source": [
        "<a href=\"https://colab.research.google.com/github/songqsh/18ma573pub/blob/master/my_first_prj.ipynb\" target=\"_parent\"><img src=\"https://colab.research.google.com/assets/colab-badge.svg\" alt=\"Open In Colab\"/></a>"
      ]
    },
    {
      "metadata": {
        "id": "hPfcm4Ljw1AB",
        "colab_type": "text"
      },
      "cell_type": "markdown",
      "source": [
        "# Environment setup"
      ]
    },
    {
      "metadata": {
        "id": "hkevEpaNwGMn",
        "colab_type": "text"
      },
      "cell_type": "markdown",
      "source": [
        "## Abstract\n",
        "\n",
        "Our course will be developed throughout the theory of computational fiannce with relevant coding experiments. The classical setup for this computing is to install anaconda with python 3.X on your computer. To ease of our installation, we will use cloud computing platform with GitHub. In this part, we will learn the followings:\n",
        "\n",
        "- Setup GitHub account and a class repo.\n",
        "- Create a Jupyter notebook with Colab and update GitHub"
      ]
    },
    {
      "metadata": {
        "id": "Agt3s6M2x9KN",
        "colab_type": "text"
      },
      "cell_type": "markdown",
      "source": [
        "## First touch with GitHub\n",
        "\n",
        "\n",
        "GitHub is exactly how people build software. GitHub. is a web-based hosting service for version control using Git. As of 2018, GitHub becomes the largest host of source code in the world, and Microsoft completed GitHub acquisition by the end of 2018. To learn GitHub, you may start with [GitHub help](https://help.github.com/). \n",
        "\n",
        "Let's start with the following steps:\n",
        "\n",
        "- Visit [GitHub](https://github.com/) and register for your own account.\n",
        "\n",
        "- Create a new repo \n",
        "\n",
        "\t- with repo name '18ma573yourname' in your GitHub account. \n",
        "\t- with Description 'Computational methods on financial math'\n",
        "\t- ticking the box for 'initialize this repo with readme'\n"
      ]
    },
    {
      "metadata": {
        "id": "srplPn1t1h8a",
        "colab_type": "text"
      },
      "cell_type": "markdown",
      "source": [
        "## Jupyter notebook with Colab\n",
        "\n"
      ]
    },
    {
      "metadata": {
        "id": "g_idRbcwwyUB",
        "colab_type": "code",
        "outputId": "4c15aadf-f7ff-40bf-fcba-dd8d91ac6672",
        "colab": {
          "base_uri": "https://localhost:8080/",
          "height": 34
        }
      },
      "cell_type": "code",
      "source": [
        "print('hello world')"
      ],
      "execution_count": 1,
      "outputs": [
        {
          "output_type": "stream",
          "text": [
            "hello world\n"
          ],
          "name": "stdout"
        }
      ]
    },
    {
      "metadata": {
        "id": "w3GYbdKxx6M_",
        "colab_type": "code",
        "colab": {}
      },
      "cell_type": "code",
      "source": [
        ""
      ],
      "execution_count": 0,
      "outputs": []
    }
  ]
}