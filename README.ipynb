{
 "cells": [
  {
   "cell_type": "markdown",
   "metadata": {},
   "source": [
    "# 18ma573pub\n",
    "## Computational methods of financial mathematics\n",
    "\n",
    "__General course info.__\n",
    "- Syllabus - [pdf](doc/syllabus_v01.pdf)\n",
    "- Project - [pdf](doc/capstone.pdf)\n",
    "\n",
    "__Python basics with colab__\n",
    "- Evironment setups with GitHub and Colab - [ipynb](src/first_notebook_v01.ipynb)\n",
    "- Python notebook introduction - [ipynb](src/python_notebook.ipynb)\n",
    "- Pandas basics - [ipynb](src/pandas_basics_v01.ipynb)\n",
    "  - (hw1) GitHub+Colab setup - [ipynb](src/hw_github_colab.ipynb)\n",
    "    - (Solns)\n",
    "      [Emily](https://github.com/hechen2020/19ma573HuixinChen),\n",
    "      [Thomas](https://github.com/TALeonard/19ma573thomasleonard),\n",
    "      [Zhiyuan](https://github.com/ZhyShe/18ma573ZhiyuanShe),\n",
    "      [Wenhao](https://github.com/wqiu96/19ma573WenhaoQIU),\n",
    "      [Ziyue](https://github.com/ZiyueNie/19ma573ZiyueNie),\n",
    "      [presenter-Chenyu](https://github.com/wuchenyu38/18ma573chenyuwu),\n",
    "\n",
    "__Finite difference operators with python functions__\n",
    "- First order finite difference - [ipynb](src/first_fd_v01.ipynb)\n",
    "- Convergence order - [ipynb](src/ffd_convergence_rate_v01.ipynb)\n",
    "  - (hw2-1) Second order finite difference operator - [ipynb](src/second_fd_v01.ipynb) \n",
    "  - (hw2-2) Finite difference operator with higher order convergence - [ipynb](src/ex_fd_v01.ipynb)\n",
    "    - [presenter Thomas](https://github.com/TALeonard/19ma573thomasleonard)\n",
    "  - (hw3-1 by venus) A discovery by Wenhao - [ipynb](https://nbviewer.jupyter.org/github/songqsh/18ma573pub/blob/master/src/fd_ex_01.ipynb)\n",
    "      - presented by [wenhao](https://github.com/wqiu96/19ma573WenhaoQIU)\n",
    "\n",
    "__BSM option price__\n",
    "- European call/put option class - [ipynb](src/european_options_class.ipynb)\n",
    "  - (hw3-2 by mercury) payoff diagram of butterfly - \n",
    "  [ipynb](src/option_combinations.ipynb)\n",
    "      - [zhiyuan](https://github.com/ZhyShe/18ma573ZhiyuanShe)\n",
    "- BSM formula - [ipynb](src/bsm_formula_v01.ipynb)\n",
    "  - (hw3-3 by venus) Bsm price change - [ipynb](src/bsm_price_change.ipynb)\n",
    "- Importing modules - [md](src/import_modules.md)\n",
    "\n"
   ]
  },
  {
   "cell_type": "markdown",
   "metadata": {},
   "source": [
    "\n",
    "__Volatility calibration__\n",
    "\n",
    "- Implied volatility - [ipynb](src/implied_vol_v01.ipynb)\n",
    "  - (hw3-4 by mercury) IV - [ipynb](src/hw_implied_vol.ipynb)\n",
    "- Volatility smile - [ipynb](src/vol_smile_v01.ipynb)\n",
    "- Volatility calibration for BSM - [ipynb](src/bsm_calibration_v01.ipynb)\n",
    "  - (hw4-1) [ipynb](src/hw_bsm_calibration.ipynb)\n",
    "- BSM + Geometric asian option - [pdf](doc/bsm_geometric_asian_option.pdf)\n",
    "    - (hw4-2) calibration performance - [pdf](doc/hw_bsm_geometric_asian_option.pdf)\n",
    "- week4 notes - [pdf](doc/week4.pdf)\n",
    "\n",
    "__Monte Carlo__\n",
    "- Monte Carlo basics: Estimating $\\pi$ - [pdf](doc/pi_mc_02.pdf) - [ipynb](src/pi.ipynb)\n",
    "  - (hw) - [ipynb](src/hw_mc_01.ipynb)\n",
    "  - (hw) - [ipynb](src/hw_mc_02.ipynb)\n",
    "- Ordinary Monte carlo: Definite integral evaluation - [pdf](doc/omc_integral_01.pdf)\n",
    "  - (hw) - [pdf](doc/hw_omc_integral.pdf)"
   ]
  },
  {
   "cell_type": "code",
   "execution_count": null,
   "metadata": {},
   "outputs": [],
   "source": []
  }
 ],
 "metadata": {
  "kernelspec": {
   "display_name": "Python 3",
   "language": "python",
   "name": "python3"
  },
  "language_info": {
   "codemirror_mode": {
    "name": "ipython",
    "version": 3
   },
   "file_extension": ".py",
   "mimetype": "text/x-python",
   "name": "python",
   "nbconvert_exporter": "python",
   "pygments_lexer": "ipython3",
   "version": "3.6.4"
  }
 },
 "nbformat": 4,
 "nbformat_minor": 2
}
