{
  "nbformat": 4,
  "nbformat_minor": 0,
  "metadata": {
    "colab": {
      "name": "hw_mc_01.ipynb",
      "version": "0.3.2",
      "provenance": [],
      "include_colab_link": true
    },
    "kernelspec": {
      "name": "python3",
      "display_name": "Python 3"
    }
  },
  "cells": [
    {
      "cell_type": "markdown",
      "metadata": {
        "id": "view-in-github",
        "colab_type": "text"
      },
      "source": [
        "<a href=\"https://colab.research.google.com/github/songqsh/18ma573pub/blob/master/src/hw_mc_01.ipynb\" target=\"_parent\"><img src=\"https://colab.research.google.com/assets/colab-badge.svg\" alt=\"Open In Colab\"/></a>"
      ]
    },
    {
      "metadata": {
        "id": "E2kxGLrB4zIC",
        "colab_type": "text"
      },
      "cell_type": "markdown",
      "source": [
        "Given i.i.d $\\{\\alpha_i: i\\in 1, 2, \\ldots, N\\}$, we use \n",
        "$$\\bar \\alpha = \\frac 1 N \\sum_{i=1}^N \\alpha_i$$\n",
        "as its estimator of the mean $\\mathbb E[\\alpha_1]$ \n",
        "and \n",
        "$$\\beta_N = \\frac 1 N \\sum_{i=1}^N (\\alpha_i -\\bar \\alpha)^2$$\n",
        "as the estimator of $Var(\\alpha_1)$.\n",
        "\n",
        "\n",
        "Suppose $\\alpha_1\\in L^2$, then \n",
        "- Prove $\\beta_N$ is biased.\n",
        "- Prove that $\\beta_N$ is consistent in $L^2$.\n",
        "- Can you propose an unbiased estimator?\n"
      ]
    },
    {
      "metadata": {
        "id": "dUi4qPni5eHL",
        "colab_type": "code",
        "colab": {}
      },
      "cell_type": "code",
      "source": [
        ""
      ],
      "execution_count": 0,
      "outputs": []
    }
  ]
}