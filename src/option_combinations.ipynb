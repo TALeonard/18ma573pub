{
  "nbformat": 4,
  "nbformat_minor": 0,
  "metadata": {
    "colab": {
      "name": "option_combinations.ipynb",
      "version": "0.3.2",
      "provenance": [],
      "include_colab_link": true
    },
    "kernelspec": {
      "name": "python3",
      "display_name": "Python 3"
    }
  },
  "cells": [
    {
      "cell_type": "markdown",
      "metadata": {
        "id": "view-in-github",
        "colab_type": "text"
      },
      "source": [
        "<a href=\"https://colab.research.google.com/github/songqsh/18ma573pub/blob/master/src/option_combinations.ipynb\" target=\"_parent\"><img src=\"https://colab.research.google.com/assets/colab-badge.svg\" alt=\"Open In Colab\"/></a>"
      ]
    },
    {
      "metadata": {
        "id": "C8HzenUTSqhK",
        "colab_type": "text"
      },
      "cell_type": "markdown",
      "source": [
        "plot a payoff diagram versus exercise price of\n",
        "- written 40-strike straddle\n",
        "- a butterfly consists of\n",
        "  - written 40-strike straddle\n",
        "  - purchased 45-strike call\n",
        "  - purchased 35-strike put"
      ]
    },
    {
      "metadata": {
        "id": "Fkeqt5l6TWgP",
        "colab_type": "code",
        "colab": {}
      },
      "cell_type": "code",
      "source": [
        ""
      ],
      "execution_count": 0,
      "outputs": []
    }
  ]
}