{
  "nbformat": 4,
  "nbformat_minor": 0,
  "metadata": {
    "colab": {
      "name": "implied_vol_v01.ipynb",
      "version": "0.3.2",
      "provenance": [],
      "toc_visible": true,
      "include_colab_link": true
    },
    "kernelspec": {
      "name": "python3",
      "display_name": "Python 3"
    }
  },
  "cells": [
    {
      "cell_type": "markdown",
      "metadata": {
        "id": "view-in-github",
        "colab_type": "text"
      },
      "source": [
        "<a href=\"https://colab.research.google.com/github/songqsh/18ma573pub/blob/master/src/implied_vol_v01.ipynb\" target=\"_parent\"><img src=\"https://colab.research.google.com/assets/colab-badge.svg\" alt=\"Open In Colab\"/></a>"
      ]
    },
    {
      "metadata": {
        "id": "9wAnvUp_XoFq",
        "colab_type": "text"
      },
      "cell_type": "markdown",
      "source": [
        "# Implied volatility\n",
        "\n",
        "## Abstract \n",
        "\n",
        "\n",
        "- We will introduce implied volatility and its computations"
      ]
    },
    {
      "metadata": {
        "id": "F9tYcXcNcbil",
        "colab_type": "text"
      },
      "cell_type": "markdown",
      "source": [
        "## Problem\n",
        "\n",
        "We have seen that BS call price is 5.94 with the following parameters:"
      ]
    },
    {
      "metadata": {
        "id": "bYOOPXNNdfNB",
        "colab_type": "code",
        "colab": {}
      },
      "cell_type": "code",
      "source": [
        "vol_ratio = .2; spot_price = 100.; drift_ratio = .0475; strike = 110.; maturity = 1."
      ],
      "execution_count": 0,
      "outputs": []
    },
    {
      "metadata": {
        "id": "dAbOAKUgdrFE",
        "colab_type": "text"
      },
      "cell_type": "markdown",
      "source": [
        "\n",
        "\n",
        "In the market, usually volatility (vol = 0.2 in the above) is not available, but market price (call = 5.94) for the option is available. One wants to find a volatility such that associated BSM formula is equal to (fit) the market price. This is called implied volatility. \n",
        "\n",
        "Next, we are goint to find implied volatility given the following parameters:"
      ]
    },
    {
      "metadata": {
        "id": "DE2UqN3GeDPt",
        "colab_type": "text"
      },
      "cell_type": "markdown",
      "source": [
        "spot_price = 100.; drift_ratio = .0475; strike = 110.; maturity = 1.; market_call_price = 5.94"
      ]
    },
    {
      "metadata": {
        "id": "SSW1z2w6eUZq",
        "colab_type": "text"
      },
      "cell_type": "markdown",
      "source": [
        "## Anal\n",
        "\n",
        "the implied volatility of an option contract is that value of the volatility of the underlying instrument which, when input in an option pricing model (such as Black–Scholes) will return a theoretical value equal to the current market price of the option. \n",
        "\n",
        "Consider a derivative or a call option particularly, we know parameter sets of \n",
        "- spot price.; drift_ratio (interest rate); strike.; maturity\n",
        "\n",
        "For a BSM theoretical price, the only missing parameter is the volatility $\\sigma$. Let's denote a function $f$ be\n",
        "$$f: \\sigma \\mapsto BSM(\\sigma, others).$$\n",
        "Suppose we denote by $p$ for the market price of the call option, then the implied volatility is\n",
        "$\\hat \\sigma$ satisfying\n",
        "$$f(\\hat \\sigma) = p$$\n",
        "or \n",
        "$$\\hat \\sigma = f^{-1}(p),$$\n",
        "if the inverse of $f$ is well defined at $p$."
      ]
    },
    {
      "metadata": {
        "id": "iHMqWczsik6_",
        "colab_type": "text"
      },
      "cell_type": "markdown",
      "source": [
        "The next lemma tells us, we can search for the minimizer of the error function\n",
        "$$\\sigma \\mapsto |f(\\sigma) - p|,$$\n",
        "which is available by \"scipy.optimize.fmin\". \n",
        "\n",
        "__Lemma__\n",
        "\n",
        "Supose $f$ is a function satisfying\n",
        "- $f: [0, \\infty) \\mapsto (f_{min}, f_{max})$\n",
        "- $f$ is continuous\n",
        "- $f$ is strictly increasing\n",
        "\n",
        "then, for any $p\\in  (f_{min}, f_{max})$, \n",
        "- there exists unique $\\hat \\sigma$, s.t. $f(\\hat \\sigma) = p$;\n",
        "- Moreover, \n",
        "$$\\hat \\sigma = \\arg\\min_{\\sigma\\in (0,\\infty)} | f(\\sigma) - p|.$$"
      ]
    },
    {
      "metadata": {
        "id": "52JzYn6dYS1v",
        "colab_type": "text"
      },
      "cell_type": "markdown",
      "source": [
        "## Code"
      ]
    },
    {
      "metadata": {
        "id": "dTOvSQH8XwF_",
        "colab_type": "text"
      },
      "cell_type": "markdown",
      "source": [
        "git clone repos"
      ]
    },
    {
      "metadata": {
        "id": "cXMmUpsLYR7_",
        "colab_type": "code",
        "colab": {}
      },
      "cell_type": "code",
      "source": [
        "'''======\n",
        "run once, then comment it off, and run again\n",
        "========'''\n",
        "#!git clone https://github.com/songqsh/18ma573pub.git \n",
        "pass"
      ],
      "execution_count": 0,
      "outputs": []
    },
    {
      "metadata": {
        "id": "GdMvygnhYruL",
        "colab_type": "text"
      },
      "cell_type": "markdown",
      "source": [
        "Change working directory"
      ]
    },
    {
      "metadata": {
        "id": "urPGEwOtXjeI",
        "colab_type": "code",
        "outputId": "c3dade1d-113a-4893-f299-d96a2bffe5d4",
        "colab": {
          "base_uri": "https://localhost:8080/",
          "height": 34
        }
      },
      "cell_type": "code",
      "source": [
        "cd ./18ma573pub/src/"
      ],
      "execution_count": 3,
      "outputs": [
        {
          "output_type": "stream",
          "text": [
            "/content/18ma573pub/src\n"
          ],
          "name": "stdout"
        }
      ]
    },
    {
      "metadata": {
        "id": "brz5q9uDYjID",
        "colab_type": "code",
        "colab": {}
      },
      "cell_type": "code",
      "source": [
        "'''==========\n",
        "here we import our own python modules\n",
        "==================='''\n",
        "import european_options_class as eoc\n",
        "import sde_class as sde"
      ],
      "execution_count": 0,
      "outputs": []
    },
    {
      "metadata": {
        "id": "ZZiffae1a3vi",
        "colab_type": "code",
        "colab": {}
      },
      "cell_type": "code",
      "source": [
        "import matplotlib.pyplot as plt\n",
        "import numpy as np\n",
        "import scipy.optimize as so"
      ],
      "execution_count": 0,
      "outputs": []
    },
    {
      "metadata": {
        "id": "Gsr0FIxjZDoc",
        "colab_type": "code",
        "outputId": "6a677cd2-9cfd-466b-bb9d-655bab44f8cb",
        "colab": {
          "base_uri": "https://localhost:8080/",
          "height": 34
        }
      },
      "cell_type": "code",
      "source": [
        "'''===============\n",
        "Test bsm_price\n",
        "================='''\n",
        "gbm1 = sde.Gbm(init_state = 100.,\n",
        "                 drift_ratio = .0475,\n",
        "                 vol_ratio = .2)\n",
        "option1 = eoc.EuropeanOption(\n",
        "    otype = 1, # 1: 'call'\n",
        "              # -1: 'put'\n",
        "    strike = 110.,                \n",
        "    maturity = 1.\n",
        ")\n",
        "print('>>>>>>>call value is ' + str(gbm1.bsm_price(option1)))\n"
      ],
      "execution_count": 6,
      "outputs": [
        {
          "output_type": "stream",
          "text": [
            ">>>>>>>call value is 5.943273183452838\n"
          ],
          "name": "stdout"
        }
      ]
    },
    {
      "metadata": {
        "id": "B9lm4Ai9ZjgE",
        "colab_type": "text"
      },
      "cell_type": "markdown",
      "source": [
        "In the market, usually volatility (vol = 0.2 in the above) is not available, but market price (call = 5.94) for the option is available. One wants find a volatility such that associated BSM formula is equal to (fit) the market price. "
      ]
    },
    {
      "metadata": {
        "id": "9fyC1yH-aLyw",
        "colab_type": "code",
        "colab": {}
      },
      "cell_type": "code",
      "source": [
        "'''================\n",
        "define an error function\n",
        "===================='''\n",
        "def error_function(vol, gbm, option, market_option_price):\n",
        "  gbm.vol_ratio = vol\n",
        "  return np.abs(market_option_price - gbm.bsm_price(option))"
      ],
      "execution_count": 0,
      "outputs": []
    },
    {
      "metadata": {
        "id": "iOn05OXQbQnr",
        "colab_type": "code",
        "colab": {}
      },
      "cell_type": "code",
      "source": [
        "'''==========\n",
        "define a method to seek for an implied volatility\n",
        "============'''\n",
        "\n",
        "def implied_volatility(gbm, option, market_option_price):\n",
        "  init_vol = .1 #initial guess\n",
        "  return so.fmin(error_function, init_vol, \n",
        "                 args = (gbm, option, market_option_price), disp = 0)[0]"
      ],
      "execution_count": 0,
      "outputs": []
    },
    {
      "metadata": {
        "id": "CMcocDWvc_wf",
        "colab_type": "code",
        "colab": {
          "base_uri": "https://localhost:8080/",
          "height": 51
        },
        "outputId": "6c360da4-7359-4b51-b05b-5094ec25d1b5"
      },
      "cell_type": "code",
      "source": [
        "'''============\n",
        "test the implied_vol by reversing bsm_formula example in the above\n",
        "=============='''\n",
        "print('>>>>>>>>implied volatility is')\n",
        "implied_volatility(gbm1, option1, market_option_price=5.94)"
      ],
      "execution_count": 9,
      "outputs": [
        {
          "output_type": "stream",
          "text": [
            ">>>>>>>>implied volatility is\n"
          ],
          "name": "stdout"
        },
        {
          "output_type": "execute_result",
          "data": {
            "text/plain": [
              "0.19992187500000036"
            ]
          },
          "metadata": {
            "tags": []
          },
          "execution_count": 9
        }
      ]
    }
  ]
}