{
  "nbformat": 4,
  "nbformat_minor": 0,
  "metadata": {
    "colab": {
      "name": "fd_ex_01.ipynb",
      "version": "0.3.2",
      "provenance": [],
      "include_colab_link": true
    },
    "kernelspec": {
      "name": "python3",
      "display_name": "Python 3"
    }
  },
  "cells": [
    {
      "cell_type": "markdown",
      "metadata": {
        "id": "view-in-github",
        "colab_type": "text"
      },
      "source": [
        "<a href=\"https://colab.research.google.com/github/songqsh/18ma573pub/blob/master/src/fd_ex_01.ipynb\" target=\"_parent\"><img src=\"https://colab.research.google.com/assets/colab-badge.svg\" alt=\"Open In Colab\"/></a>"
      ]
    },
    {
      "metadata": {
        "id": "GuUQd20DnJwS",
        "colab_type": "text"
      },
      "cell_type": "markdown",
      "source": [
        "We have seen that FFD $\\delta_h f$ for the $f'(x)$ has convergence order $1$. \n",
        "See the python demo \n",
        "[here](https://nbviewer.jupyter.org/github/songqsh/18ma573pub/blob/master/src/ffd_convergence_rate_v01.ipynb) with \n",
        "$$f(x) = \\sin(x) \\hbox{ at } x = \\pi/3. $$\n",
        "\n",
        "Interestingly, Wenhao discovered that if the tested point $x$ is changed to $\\pi$, then the convergence rate is $2$. \n"
      ]
    },
    {
      "metadata": {
        "id": "RwPVW7PJm7Kz",
        "colab_type": "code",
        "colab": {}
      },
      "cell_type": "code",
      "source": [
        "import numpy as np\n",
        "import matplotlib.pyplot as plt\n",
        "import scipy.stats as ss"
      ],
      "execution_count": 0,
      "outputs": []
    },
    {
      "metadata": {
        "id": "KkO9hw94oax4",
        "colab_type": "code",
        "colab": {}
      },
      "cell_type": "code",
      "source": [
        "def ffd(f, x, h):\n",
        "    return (f(x+h) - f(x))/h"
      ],
      "execution_count": 0,
      "outputs": []
    },
    {
      "metadata": {
        "id": "aXpo7bS6oghx",
        "colab_type": "code",
        "colab": {
          "base_uri": "https://localhost:8080/",
          "height": 364
        },
        "outputId": "9d4bce2b-7f78-44bf-f303-6151b26ddd10"
      },
      "cell_type": "code",
      "source": [
        "x_target = np.pi #target point to be examined\n",
        "y_target = np.cos(x_target) #exact derivative value at the target point\n",
        "nn = np.arange(5, 11)\n",
        "hh = 1/np.power(2, nn) #step sizes to be taken\n",
        "err = ffd(np.sin, x_target, hh) - y_target #errors corresponding to each step size\n",
        "yy = np.log2(np.abs(err))\n",
        "plt.plot(nn, yy)\n",
        "\n",
        "out = ss.linregress(nn,yy)\n",
        "print('----->>>the convergence order is ' + str(-out[0]))"
      ],
      "execution_count": 8,
      "outputs": [
        {
          "output_type": "stream",
          "text": [
            "----->>>the convergence order is 1.999988366110052\n"
          ],
          "name": "stdout"
        },
        {
          "output_type": "display_data",
          "data": {
            "image/png": "[encoded data removed]",
            "text/plain": [
              "<Figure size 576x396 with 1 Axes>"
            ]
          },
          "metadata": {
            "tags": []
          }
        }
      ]
    },
    {
      "metadata": {
        "id": "6ze8R9HunJci",
        "colab_type": "text"
      },
      "cell_type": "markdown",
      "source": [
        "To explain this funny behavior, he tried to prove the following fact:\n",
        "\n",
        "__Conj__\n",
        "\n",
        "Suppose $f$ is a smooth odd function, then FFD has convergence order $2$ at $x = 0$ to its first order derivative."
      ]
    },
    {
      "metadata": {
        "id": "S8ARtyT2o_wS",
        "colab_type": "code",
        "colab": {}
      },
      "cell_type": "code",
      "source": [
        ""
      ],
      "execution_count": 0,
      "outputs": []
    }
  ]
}