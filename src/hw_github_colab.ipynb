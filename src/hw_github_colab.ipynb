{
  "nbformat": 4,
  "nbformat_minor": 0,
  "metadata": {
    "colab": {
      "name": "hw_github_colab.ipynb",
      "version": "0.3.2",
      "provenance": [],
      "include_colab_link": true
    },
    "kernelspec": {
      "name": "python3",
      "display_name": "Python 3"
    }
  },
  "cells": [
    {
      "cell_type": "markdown",
      "metadata": {
        "id": "view-in-github",
        "colab_type": "text"
      },
      "source": [
        "<a href=\"https://colab.research.google.com/github/songqsh/18ma573pub/blob/master/src/hw_github_colab.ipynb\" target=\"_parent\"><img src=\"https://colab.research.google.com/assets/colab-badge.svg\" alt=\"Open In Colab\"/></a>"
      ]
    },
    {
      "metadata": {
        "id": "Agt3s6M2x9KN",
        "colab_type": "text"
      },
      "cell_type": "markdown",
      "source": [
        "Please complete the following tasks:\n",
        "\n",
        "- Visit [GitHub](https://github.com/) and register for your own account.\n",
        "\n",
        "- Create a new repo \n",
        "\n",
        "\t- with repo name '18ma573yourname' in your GitHub account. \n",
        "\t- with Description 'Computational methods on financial math'\n",
        "\t- ticking the box for 'initialize this repo with readme'\n",
        "\n",
        "- Write down pdf of $\\mathcal N(1, 4)$ using latex\n",
        "-  Plot its graph.\n",
        "- add the file to your repo\n",
        "- make a link of this file to your README.md of the repo\n",
        "- Email to me your repo link\n"
      ]
    },
    {
      "metadata": {
        "id": "u5wuQ_VQYxy7",
        "colab_type": "code",
        "colab": {}
      },
      "cell_type": "code",
      "source": [
        ""
      ],
      "execution_count": 0,
      "outputs": []
    }
  ]
}