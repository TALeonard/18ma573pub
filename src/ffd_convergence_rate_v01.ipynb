{
  "nbformat": 4,
  "nbformat_minor": 0,
  "metadata": {
    "colab": {
      "name": "ffd_convergence_rate_v01.ipynb",
      "version": "0.3.2",
      "provenance": [],
      "include_colab_link": true
    },
    "kernelspec": {
      "display_name": "Python 3",
      "language": "python",
      "name": "python3"
    }
  },
  "cells": [
    {
      "cell_type": "markdown",
      "metadata": {
        "id": "view-in-github",
        "colab_type": "text"
      },
      "source": [
        "<a href=\"https://colab.research.google.com/github/songqsh/18ma573pub/blob/master/src/ffd_convergence_rate_v01.ipynb\" target=\"_parent\"><img src=\"https://colab.research.google.com/assets/colab-badge.svg\" alt=\"Open In Colab\"/></a>"
      ]
    },
    {
      "metadata": {
        "id": "5UxN9onXoPsW",
        "colab_type": "text"
      },
      "cell_type": "markdown",
      "source": [
        "# Abstract\n",
        "- Goal:\n",
        "    - Demonstrate convergence rate\n"
      ]
    },
    {
      "metadata": {
        "id": "hvOuQ6_VoPsY",
        "colab_type": "text"
      },
      "cell_type": "markdown",
      "source": [
        "# Problem\n",
        "\n",
        "Let $f(x) = \\sin x$. We shall demonstrate its FFD convergence rate being $1$."
      ]
    },
    {
      "metadata": {
        "id": "boW0TSEXoPsa",
        "colab_type": "text"
      },
      "cell_type": "markdown",
      "source": [
        "# Anal \n",
        "\n",
        "Given a smooth function $f: \\mathbb R \\mapsto \\mathbb R$, recall that FFD is defined by\n",
        "$$f'(x) \\simeq  \\frac{f(x+h) - f(x)}{h} := \\delta_h f.$$\n",
        "Moreover, FFD has convergence order $1$; i.e.\n",
        "$$|\\delta_h f(x) - f'(x)| = O(h) \\simeq K h^{+1}.$$\n",
        "\n",
        "__Def__\n",
        "\n",
        "We say FFD has convergence . order $\\alpha$ if\n",
        "$$|\\delta_h f(x) - f'(x)| = O(h) \\simeq K h^{+1}, \\quad \\forall x\\in \\mathbb R. \\square$$\n",
        "\n",
        "A usual approach to demonstrate the convergence rate $1$ is as follows. \n",
        "\n",
        "Let's denote the aboslute error term (the left hand side of the above equation) as\n",
        "$\\epsilon(h)$ and its convergence rate is $\\alpha$, then the error term behaves as\n",
        "$$\\epsilon(h) \\simeq K h^\\alpha.$$\n",
        "To demonstrate its convergence rate being $1$, we want to visualize $\\alpha =1$.\n",
        "To proceed, we could compute $\\epsilon(h)$ for the values\n",
        "$$h \\in \\{2^{-n}: n = 5, 6, \\ldots, 10\\}.$$\n",
        "\n",
        "Write \n",
        "$$\\epsilon_n = \\epsilon(2^{-n}) \\simeq K 2^{-n\\alpha}.$$\n",
        "Take $log_2$ both sides, we have\n",
        "$$\\log_2 \\epsilon_n \\simeq \\log_2 K -  \\alpha \\cdot n.$$\n",
        "We can plot a $n$ vs $\\ln \\epsilon_n$ as $n$ varies from small number to a big number.\n",
        "If the convergence analysis is correct, the plot shall show a line with slope $\\alpha$."
      ]
    },
    {
      "metadata": {
        "id": "T_qCDPE5oPsb",
        "colab_type": "text"
      },
      "cell_type": "markdown",
      "source": [
        "__Paras__\n",
        "\n",
        "Verify FFD convergence rate with at $\\pi/3$ with $h = 2^{-n}$, where $n$ ranges from 5 to 10."
      ]
    },
    {
      "metadata": {
        "id": "zFDZJahVoPsc",
        "colab_type": "text"
      },
      "cell_type": "markdown",
      "source": [
        "# Code"
      ]
    },
    {
      "metadata": {
        "id": "RKG_I2VLoPsd",
        "colab_type": "code",
        "colab": {}
      },
      "cell_type": "code",
      "source": [
        "import numpy as np\n",
        "import matplotlib.pyplot as plt"
      ],
      "execution_count": 0,
      "outputs": []
    },
    {
      "metadata": {
        "id": "sk-1oFczr3f2",
        "colab_type": "text"
      },
      "cell_type": "markdown",
      "source": [
        "finite difference operators are defined here"
      ]
    },
    {
      "metadata": {
        "id": "TbV3M1broPsg",
        "colab_type": "code",
        "colab": {}
      },
      "cell_type": "code",
      "source": [
        "def ffd(f, x, h):\n",
        "    return (f(x+h) - f(x))/h\n",
        "\n",
        "def bfd(f, x, h):\n",
        "    return (f(x) - f(x-h))/h\n",
        "\n",
        "def cfd(f, x, h):\n",
        "    return (f(x+h) - f(x-h))/h/2\n",
        "\n"
      ],
      "execution_count": 0,
      "outputs": []
    },
    {
      "metadata": {
        "id": "rQ329htx77Fb",
        "colab_type": "text"
      },
      "cell_type": "markdown",
      "source": [
        "Next, compute a series of finite difference approximations for a target point and plot"
      ]
    },
    {
      "metadata": {
        "id": "SivH3_vVsM6Y",
        "colab_type": "code",
        "outputId": "95dc95a0-0959-40fb-dfd3-01ed8107fa65",
        "colab": {
          "base_uri": "https://localhost:8080/",
          "height": 364
        }
      },
      "cell_type": "code",
      "source": [
        "x_target = np.pi/2 #target point to be examined\n",
        "y_target = np.cos(x_target) #exact derivative value at the target point\n",
        "nn = np.arange(5, 11)\n",
        "hh = 1/np.power(2, nn) #step sizes to be taken\n",
        "err = ffd(np.sin, x_target, hh) - y_target #errors corresponding to each step size\n",
        "yy = np.log2(np.abs(err))\n",
        "plt.plot(nn, yy)"
      ],
      "execution_count": 9,
      "outputs": [
        {
          "output_type": "execute_result",
          "data": {
            "text/plain": [
              "[<matplotlib.lines.Line2D at 0x7fb62052e630>]"
            ]
          },
          "metadata": {
            "tags": []
          },
          "execution_count": 9
        },
        {
          "output_type": "display_data",
          "data": {
            "image/png": "[encoded data removed]",
            "text/plain": [
              "<Figure size 576x396 with 1 Axes>"
            ]
          },
          "metadata": {
            "tags": []
          }
        }
      ]
    },
    {
      "metadata": {
        "id": "iOvKjCs08FNC",
        "colab_type": "text"
      },
      "cell_type": "markdown",
      "source": [
        "Next, we shall use linear regression to find out the slopt of the decreasing curve"
      ]
    },
    {
      "metadata": {
        "id": "vFm_tSQ4oPsx",
        "colab_type": "code",
        "outputId": "d209a998-99b2-4491-b2a4-f7e2cf9d5017",
        "colab": {
          "base_uri": "https://localhost:8080/",
          "height": 34
        }
      },
      "cell_type": "code",
      "source": [
        "import scipy.stats as ss\n",
        "out = ss.linregress(nn,yy)\n",
        "print('----->>>the convergence order is ' + str(-out[0]))"
      ],
      "execution_count": 10,
      "outputs": [
        {
          "output_type": "stream",
          "text": [
            "----->>>the convergence order is 0.9999806100243455\n"
          ],
          "name": "stdout"
        }
      ]
    },
    {
      "metadata": {
        "id": "DWkwVKfE7ygY",
        "colab_type": "code",
        "colab": {}
      },
      "cell_type": "code",
      "source": [
        ""
      ],
      "execution_count": 0,
      "outputs": []
    }
  ]
}