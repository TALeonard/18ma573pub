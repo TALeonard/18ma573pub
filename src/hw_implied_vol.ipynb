{
  "nbformat": 4,
  "nbformat_minor": 0,
  "metadata": {
    "colab": {
      "name": "hw_implied_vol.ipynb",
      "version": "0.3.2",
      "provenance": [],
      "include_colab_link": true
    },
    "kernelspec": {
      "name": "python3",
      "display_name": "Python 3"
    }
  },
  "cells": [
    {
      "cell_type": "markdown",
      "metadata": {
        "id": "view-in-github",
        "colab_type": "text"
      },
      "source": [
        "<a href=\"https://colab.research.google.com/github/songqsh/18ma573pub/blob/master/src/hw_implied_vol.ipynb\" target=\"_parent\"><img src=\"https://colab.research.google.com/assets/colab-badge.svg\" alt=\"Open In Colab\"/></a>"
      ]
    },
    {
      "metadata": {
        "id": "iHMqWczsik6_",
        "colab_type": "text"
      },
      "cell_type": "markdown",
      "source": [
        "- Prove the following facts: Supose $f$ is a function satisfying\n",
        "  - $f: [0, \\infty) \\mapsto (f_{min}, f_{max})$\n",
        "  - $f$ is continuous\n",
        "  - $f$ is strictly increasing\n",
        "  \n",
        "  then, for any $p\\in  (f_{min}, f_{max})$, \n",
        "  - there exists unique $\\hat \\sigma$, s.t. $f(\\hat \\sigma) = p$;\n",
        "  - Moreover, \n",
        "  $$\\hat \\sigma = \\arg\\min_{\\sigma\\in (0,\\infty)} | f(\\sigma) - p|.$$"
      ]
    },
    {
      "metadata": {
        "id": "F9tYcXcNcbil",
        "colab_type": "text"
      },
      "cell_type": "markdown",
      "source": [
        "- Now we denote by $f(\\sigma)$ the BSM put price with the following parameters:\n",
        "  - vol_ratio = $\\sigma$; spot_price = 100.; drift_ratio = .0475; strike = 110.; maturity = 1.\n",
        "  \n",
        "  Answer the following questions:\n",
        "  - What is $f_{min}$ and $f_{max}$?\n",
        "  - Is $f$ strictly increasing on $(0,\\infty)$? Justify your answer.\n",
        "  - If the market put price is $10$, then what's the implied volatility?"
      ]
    },
    {
      "metadata": {
        "id": "X1fVkLHGac1s",
        "colab_type": "code",
        "colab": {}
      },
      "cell_type": "code",
      "source": [
        ""
      ],
      "execution_count": 0,
      "outputs": []
    }
  ]
}