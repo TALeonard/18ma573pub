{
  "nbformat": 4,
  "nbformat_minor": 0,
  "metadata": {
    "colab": {
      "name": "hw_bsm_calibration.ipynb",
      "version": "0.3.2",
      "provenance": [],
      "include_colab_link": true
    },
    "kernelspec": {
      "name": "python3",
      "display_name": "Python 3"
    }
  },
  "cells": [
    {
      "cell_type": "markdown",
      "metadata": {
        "id": "view-in-github",
        "colab_type": "text"
      },
      "source": [
        "<a href=\"https://colab.research.google.com/github/songqsh/18ma573pub/blob/master/src/hw_bsm_calibration.ipynb\" target=\"_parent\"><img src=\"https://colab.research.google.com/assets/colab-badge.svg\" alt=\"Open In Colab\"/></a>"
      ]
    },
    {
      "metadata": {
        "id": "rULOYWJrdGe8",
        "colab_type": "text"
      },
      "cell_type": "markdown",
      "source": [
        "The objective is to get familiar with model calibration.\n",
        "- download call today's option prices of your favrite stock with maturity $T_1$ and several near the money strikes $(K_1, \\ldots, K_n)$.\n",
        "- compute IV with your bsm price engine for each option price. You are going to use USD Libor 3-month for your interest rate input. \n",
        "- plot a figure of strike v.s. IV. Do you find any volatility smile? \n",
        "- calibrate bsm volatility for the option prices, denote it by $\\hat \\sigma$. You may use any error function for the calibration purpose.\n",
        "- reproduce option prices using your price engine with calibrated volatility, then compare how close they are to the market prices.\n"
      ]
    }
  ]
}