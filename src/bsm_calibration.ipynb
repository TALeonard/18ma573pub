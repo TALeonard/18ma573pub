{
  "nbformat": 4,
  "nbformat_minor": 0,
  "metadata": {
    "colab": {
      "name": "bsm_calibration.ipynb",
      "version": "0.3.2",
      "provenance": [],
      "include_colab_link": true
    },
    "kernelspec": {
      "name": "python3",
      "display_name": "Python 3"
    }
  },
  "cells": [
    {
      "cell_type": "markdown",
      "metadata": {
        "id": "view-in-github",
        "colab_type": "text"
      },
      "source": [
        "<a href=\"https://colab.research.google.com/github/songqsh/18ma573pub/blob/bra1/src/bsm_calibration.ipynb\" target=\"_parent\"><img src=\"https://colab.research.google.com/assets/colab-badge.svg\" alt=\"Open In Colab\"/></a>"
      ]
    },
    {
      "metadata": {
        "id": "bACDA4LKT-Z-",
        "colab_type": "text"
      },
      "cell_type": "markdown",
      "source": [
        "- git clone repo to colab"
      ]
    },
    {
      "metadata": {
        "id": "6yGc4NRDMb6H",
        "colab_type": "code",
        "colab": {}
      },
      "cell_type": "code",
      "source": [
        "'''======\n",
        "run once, then comment it off, and run again\n",
        "========'''\n",
        "#!git clone https://github.com/songqsh/18ma573pub.git \n",
        "pass"
      ],
      "execution_count": 0,
      "outputs": []
    },
    {
      "metadata": {
        "id": "W37aPu0-UE5t",
        "colab_type": "text"
      },
      "cell_type": "markdown",
      "source": [
        "- Change working dir to \"reponame/src\", also needs run once, and comment it out from the second run."
      ]
    },
    {
      "metadata": {
        "id": "qnPdZ7q7TrDC",
        "colab_type": "code",
        "colab": {}
      },
      "cell_type": "code",
      "source": [
        "#cd 18ma573pub/src/"
      ],
      "execution_count": 0,
      "outputs": []
    },
    {
      "metadata": {
        "id": "3KZKEJdCUJa_",
        "colab_type": "text"
      },
      "cell_type": "markdown",
      "source": [
        "- here we import our own python modules and common modules"
      ]
    },
    {
      "metadata": {
        "id": "xJiFQheVT0SO",
        "colab_type": "code",
        "colab": {}
      },
      "cell_type": "code",
      "source": [
        "import european_options_class as eoc\n",
        "import sde_class as sde\n",
        "import numpy as np"
      ],
      "execution_count": 0,
      "outputs": []
    },
    {
      "metadata": {
        "id": "1s1eIpODUW_A",
        "colab_type": "text"
      },
      "cell_type": "markdown",
      "source": [
        "- Read data from .dat file. It has call option prices of\n",
        "  - maturities 2 months and 5 months;\n",
        "  - strikes of 97, 99, 101, 103"
      ]
    },
    {
      "metadata": {
        "id": "55dseLN6URf0",
        "colab_type": "code",
        "colab": {
          "base_uri": "https://localhost:8080/",
          "height": 170
        },
        "outputId": "f5363d3a-210b-4c3e-81a2-b86f1f31154e"
      },
      "cell_type": "code",
      "source": [
        "'''======\n",
        "Read data\n",
        "========='''\n",
        "#Read four-column data\n",
        "#columns are otype, maturity, strike, option_price\n",
        "np_option_data1 = np.loadtxt('optiondata2.dat', comments='#', delimiter=',')\n",
        "\n",
        "print('>>>>>>otype, maturity, strike, option_price')\n",
        "print(np_option_data1)"
      ],
      "execution_count": 44,
      "outputs": [
        {
          "output_type": "stream",
          "text": [
            ">>>>>>otype, maturity, strike, option_price\n",
            "[[  1.           0.16666667  97.           5.32705461]\n",
            " [  1.           0.16666667  99.           3.86224255]\n",
            " [  1.           0.16666667 101.           2.7204371 ]\n",
            " [  1.           0.16666667 103.           2.1202793 ]\n",
            " [  1.           0.41666667  97.           7.23756307]\n",
            " [  1.           0.41666667  99.           5.95053461]\n",
            " [  1.           0.41666667 101.           5.2640122 ]\n",
            " [  1.           0.41666667 103.           4.97493422]]\n"
          ],
          "name": "stdout"
        }
      ]
    },
    {
      "metadata": {
        "id": "rLJ7Qm2nWehV",
        "colab_type": "text"
      },
      "cell_type": "markdown",
      "source": [
        "- We also need to give spot price and interest rate before the computation."
      ]
    },
    {
      "metadata": {
        "id": "-5Oe6-JIWd1m",
        "colab_type": "code",
        "colab": {}
      },
      "cell_type": "code",
      "source": [
        "'''==============\n",
        "below are from the market data for underlying process\n",
        "================='''\n",
        "gbm1 = sde.Gbm(\n",
        "    init_state = 100, #market data\n",
        "    drift_ratio = .05, #market data\n",
        "    vol_ratio = .1 #initial guess\n",
        ")"
      ],
      "execution_count": 0,
      "outputs": []
    },
    {
      "metadata": {
        "id": "2DXtqC08asNe",
        "colab_type": "text"
      },
      "cell_type": "markdown",
      "source": [
        "- construct an option class including market price as its member. Essentially the same as EuropeanOption class with slight modifications."
      ]
    },
    {
      "metadata": {
        "id": "wp-LLJlza0kl",
        "colab_type": "code",
        "colab": {}
      },
      "cell_type": "code",
      "source": [
        "'''=========\n",
        "option class init\n",
        "=========='''\n",
        "class VanillaOption:\n",
        "    def __init__(\n",
        "        self,\n",
        "        otype = 1, # 1: 'call'\n",
        "                  # -1: 'put'\n",
        "        strike = 110.,\n",
        "        maturity = 1.,\n",
        "        market_price = 10.):\n",
        "      self.otype = otype\n",
        "      self.strike = strike\n",
        "      self.maturity = maturity\n",
        "      self.market_price = market_price\n",
        "      \n",
        "        \n",
        "    def payoff(self, s): #s: excercise price\n",
        "      otype = self.otype\n",
        "      k = self.strike\n",
        "      maturity = self.maturity\n",
        "      return np.max([0, (s - k)*otype])"
      ],
      "execution_count": 0,
      "outputs": []
    },
    {
      "metadata": {
        "id": "jtzdzPDRXkSO",
        "colab_type": "text"
      },
      "cell_type": "markdown",
      "source": [
        "- creat option_list from the data"
      ]
    },
    {
      "metadata": {
        "id": "GErLpqgQXtDS",
        "colab_type": "code",
        "colab": {}
      },
      "cell_type": "code",
      "source": [
        "num_row = np_option_data1.shape[0]\n",
        "option_list = []\n",
        "\n",
        "for i in range(num_row):\n",
        "  option1 = VanillaOption(\n",
        "      otype = np_option_data1[i,0],\n",
        "      strike = np_option_data1[i,2],\n",
        "      maturity = np_option_data1[i,1],\n",
        "      market_price = np_option_data1[i,3]\n",
        "  )\n",
        "      \n",
        "  option_list.append(option1) \n",
        "  "
      ],
      "execution_count": 0,
      "outputs": []
    },
    {
      "metadata": {
        "id": "x0F0-26vXsYp",
        "colab_type": "text"
      },
      "cell_type": "markdown",
      "source": [
        "- Define calibration method"
      ]
    },
    {
      "metadata": {
        "id": "8HbNeNkVnEtT",
        "colab_type": "code",
        "colab": {}
      },
      "cell_type": "code",
      "source": [
        "'''==========\n",
        "define a method to seek for an calibrated volatility\n",
        "============'''\n",
        "\n",
        "def error_function(vol, gbm, option_list):\n",
        "  gbm.vol_ratio = vol\n",
        "  err1 = 0\n",
        "  for i in len(option_list):\n",
        "    err1 = err1 + np.abs(option_list[i].market_price \n",
        "                         - gbm.bsm_price(option_list[i]))\n",
        "    \n",
        "  return err1"
      ],
      "execution_count": 0,
      "outputs": []
    },
    {
      "metadata": {
        "id": "89knGzbmm9YZ",
        "colab_type": "code",
        "colab": {}
      },
      "cell_type": "code",
      "source": [
        "'''==========\n",
        "define a method to seek for an calibrated volatility\n",
        "============'''\n",
        "\n",
        "def error_function(vol, gbm, option, market_option_price):\n",
        "  gbm.vol_ratio = vol\n",
        "  return np.abs(market_option_price - gbm.bsm_price(option))\n",
        "\n",
        "def implied_volatility(gbm, option, market_option_price):\n",
        "  init_vol = .1 #initial guess\n",
        "  return so.fmin(error_function, init_vol, \n",
        "                 args = (gbm, option, market_option_price), disp = 0)[0]"
      ],
      "execution_count": 0,
      "outputs": []
    },
    {
      "metadata": {
        "id": "M8rKq5zCUc8Q",
        "colab_type": "code",
        "colab": {}
      },
      "cell_type": "code",
      "source": [
        "class Dog:\n",
        "  name = 'tom'\n",
        "  def __init__(self, age=5):\n",
        "    self.age = age\n",
        "  def out(self):\n",
        "    print(self.age)"
      ],
      "execution_count": 0,
      "outputs": []
    },
    {
      "metadata": {
        "id": "3fRupq9KUtrf",
        "colab_type": "code",
        "colab": {
          "base_uri": "https://localhost:8080/",
          "height": 34
        },
        "outputId": "9b6256ee-813b-40a1-8244-bddcb3a50e61"
      },
      "cell_type": "code",
      "source": [
        "dog1 = Dog(3)\n",
        "dog1.out()"
      ],
      "execution_count": 12,
      "outputs": [
        {
          "output_type": "stream",
          "text": [
            "3\n"
          ],
          "name": "stdout"
        }
      ]
    },
    {
      "metadata": {
        "id": "09lyxrpqUx6y",
        "colab_type": "code",
        "colab": {}
      },
      "cell_type": "code",
      "source": [
        "dog_list = [Dog(i) for i in range(5)]"
      ],
      "execution_count": 0,
      "outputs": []
    },
    {
      "metadata": {
        "id": "IBlPB4ggVT56",
        "colab_type": "code",
        "colab": {}
      },
      "cell_type": "code",
      "source": [
        "def f(dog_list):\n",
        "  for i in range(len(dog_list)):\n",
        "    dog_list[i].out()"
      ],
      "execution_count": 0,
      "outputs": []
    },
    {
      "metadata": {
        "id": "FfsTOyCQVXei",
        "colab_type": "code",
        "colab": {
          "base_uri": "https://localhost:8080/",
          "height": 102
        },
        "outputId": "8a3522be-a442-4f3a-ed82-af1a4b8512b8"
      },
      "cell_type": "code",
      "source": [
        "f(dog_list)"
      ],
      "execution_count": 23,
      "outputs": [
        {
          "output_type": "stream",
          "text": [
            "0\n",
            "1\n",
            "2\n",
            "3\n",
            "4\n"
          ],
          "name": "stdout"
        }
      ]
    },
    {
      "metadata": {
        "id": "-BgzkWVuVkNy",
        "colab_type": "code",
        "colab": {}
      },
      "cell_type": "code",
      "source": [
        ""
      ],
      "execution_count": 0,
      "outputs": []
    }
  ]
}