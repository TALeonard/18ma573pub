{
  "nbformat": 4,
  "nbformat_minor": 0,
  "metadata": {
    "colab": {
      "name": "bsm_formula_v02.ipynb",
      "version": "0.3.2",
      "provenance": [],
      "toc_visible": true,
      "include_colab_link": true
    },
    "kernelspec": {
      "name": "python3",
      "display_name": "Python 3"
    }
  },
  "cells": [
    {
      "cell_type": "markdown",
      "metadata": {
        "id": "view-in-github",
        "colab_type": "text"
      },
      "source": [
        "<a href=\"https://colab.research.google.com/github/songqsh/18ma573pub/blob/master/src/bsm_formula_v02.ipynb\" target=\"_parent\"><img src=\"https://colab.research.google.com/assets/colab-badge.svg\" alt=\"Open In Colab\"/></a>"
      ]
    },
    {
      "metadata": {
        "id": "89t4J6Dmd-Eo",
        "colab_type": "text"
      },
      "cell_type": "markdown",
      "source": [
        "# BSM formula\n",
        "\n",
        "## Abstract\n",
        "\n",
        "- create GBM class\n",
        "- define a method for BSM formula for a given option type"
      ]
    },
    {
      "metadata": {
        "id": "y5hyO8FseuLn",
        "colab_type": "text"
      },
      "cell_type": "markdown",
      "source": [
        "## Anal\n",
        "\n",
        "BS model assumes the distribution of stock as lognormal. In particular, it writes \n",
        "$$\\ln \\frac{S(T)}{S(0)} \\sim \\mathcal N((r  - \\frac 1 2 \\sigma^2) T, \\sigma^2 T)$$\n",
        "with respect to risk neutral measure. In the above, the parameters stand for\n",
        "\n",
        "* $S(0)$: The initial stock price\n",
        "* $S(T)$: The stock price at $T$\n",
        "* $r$: interest rate\n",
        "* $\\sigma$: volatility\n",
        "\n"
      ]
    },
    {
      "metadata": {
        "id": "4BEWnmSve9oM",
        "colab_type": "text"
      },
      "cell_type": "markdown",
      "source": [
        "\n",
        "The call and put price with maturity $T$ and $K$ will be known as $C_0$ and $P_0$ given as below:\n",
        "$$C_0 = \\mathbb E [e^{-rT} (S(T) - K)^+] = S_0  \\Phi(d_1) - K e^{-rT} \\Phi(d_2),$$\n",
        "and \n",
        "$$P_0 = \\mathbb E [e^{-rT} (S(T) - K)^-] = K e^{-rT} \\Phi(- d_2) - S_0  \\Phi(- d_1),$$\n",
        "where $d_i$ are given as\n",
        "$$d_1 = \\frac{(r + \\frac 1 2 \\sigma^2) T - \\ln \\frac{K}{S_0}}{\\sigma \\sqrt T},$$\n",
        "and\n",
        "$$d_2 = \\frac{(r - \\frac 1 2 \\sigma^2) T - \\ln \\frac{K}{S_0}}{\\sigma \\sqrt T} = d_1 - \\sigma \\sqrt T$$\n",
        "\n",
        "Put-call parity will be useful:\n",
        "    $$C_0 - P_0 =  S(0) - e^{-rT} K.$$"
      ]
    },
    {
      "metadata": {
        "id": "mewOxcQJfFnT",
        "colab_type": "text"
      },
      "cell_type": "markdown",
      "source": [
        "## Code"
      ]
    },
    {
      "metadata": {
        "id": "Vzb_-sqzfsKz",
        "colab_type": "code",
        "colab": {
          "base_uri": "https://localhost:8080/",
          "height": 136
        },
        "outputId": "1fad38e1-1398-4ec4-aafb-26d0bd299eae"
      },
      "cell_type": "code",
      "source": [
        "'''======\n",
        "run once, then comment it off, and run again\n",
        "========'''\n",
        "!git clone https://github.com/songqsh/18ma573pub.git \n",
        "pass"
      ],
      "execution_count": 1,
      "outputs": [
        {
          "output_type": "stream",
          "text": [
            "Cloning into '18ma573pub'...\n",
            "remote: Enumerating objects: 105, done.\u001b[K\n",
            "remote: Counting objects: 100% (105/105), done.\u001b[K\n",
            "remote: Compressing objects: 100% (105/105), done.\u001b[K\n",
            "remote: Total 399 (delta 65), reused 1 (delta 0), pack-reused 294\u001b[K\n",
            "Receiving objects: 100% (399/399), 622.69 KiB | 9.88 MiB/s, done.\n",
            "Resolving deltas: 100% (220/220), done.\n"
          ],
          "name": "stdout"
        }
      ]
    },
    {
      "metadata": {
        "id": "2m2f46apfy2X",
        "colab_type": "code",
        "outputId": "00caf17a-77d1-4e42-c5fc-0dbfb7a95b03",
        "colab": {
          "base_uri": "https://localhost:8080/",
          "height": 34
        }
      },
      "cell_type": "code",
      "source": [
        "cd 18ma573pub/src/"
      ],
      "execution_count": 2,
      "outputs": [
        {
          "output_type": "stream",
          "text": [
            "/content/18ma573pub/src\n"
          ],
          "name": "stdout"
        }
      ]
    },
    {
      "metadata": {
        "id": "RXd_brmsfEs9",
        "colab_type": "code",
        "colab": {}
      },
      "cell_type": "code",
      "source": [
        "import numpy as np\n",
        "import scipy.stats as ss"
      ],
      "execution_count": 0,
      "outputs": []
    },
    {
      "metadata": {
        "id": "Naqwlpj1gAvW",
        "colab_type": "code",
        "colab": {}
      },
      "cell_type": "code",
      "source": [
        "'''==========\n",
        "here we import our own python modules\n",
        "==================='''\n",
        "import european_options_class as eoc\n",
        "import sde_class"
      ],
      "execution_count": 0,
      "outputs": []
    },
    {
      "metadata": {
        "id": "iDswnsxjf_h5",
        "colab_type": "code",
        "outputId": "a7f29072-dde2-47af-bad5-bd78f9ecf3dc",
        "colab": {
          "base_uri": "https://localhost:8080/",
          "height": 51
        }
      },
      "cell_type": "code",
      "source": [
        "'''===============\n",
        "Test bsm_price\n",
        "================='''\n",
        "gbm1 = sde_class.Gbm()\n",
        "option1 = eoc.VanillaOption()\n",
        "print('>>>>>>>>>>call value is ' + str(gbm1.bsm_price(option1)))\n",
        "option2 = eoc.VanillaOption(otype=-1)\n",
        "print('>>>>>>>>>>put value is ' + str(gbm1.bsm_price(option2)))\n"
      ],
      "execution_count": 8,
      "outputs": [
        {
          "output_type": "stream",
          "text": [
            ">>>>>>>>>>call value is 5.943273183452838\n",
            ">>>>>>>>>>put value is 10.84042522804176\n"
          ],
          "name": "stdout"
        }
      ]
    },
    {
      "metadata": {
        "id": "6lRJCU9swHRt",
        "colab_type": "code",
        "colab": {}
      },
      "cell_type": "code",
      "source": [
        ""
      ],
      "execution_count": 0,
      "outputs": []
    }
  ]
}