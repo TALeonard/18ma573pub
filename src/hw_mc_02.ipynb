{
  "nbformat": 4,
  "nbformat_minor": 0,
  "metadata": {
    "colab": {
      "name": "hw_mc_02.ipynb",
      "version": "0.3.2",
      "provenance": [],
      "include_colab_link": true
    },
    "kernelspec": {
      "name": "python3",
      "display_name": "Python 3"
    }
  },
  "cells": [
    {
      "cell_type": "markdown",
      "metadata": {
        "id": "view-in-github",
        "colab_type": "text"
      },
      "source": [
        "<a href=\"https://colab.research.google.com/github/songqsh/18ma573pub/blob/master/src/hw_mc_02.ipynb\" target=\"_parent\"><img src=\"https://colab.research.google.com/assets/colab-badge.svg\" alt=\"Open In Colab\"/></a>"
      ]
    },
    {
      "metadata": {
        "id": "NFroIH2Q621T",
        "colab_type": "code",
        "colab": {}
      },
      "cell_type": "code",
      "source": [
        ""
      ],
      "execution_count": 0,
      "outputs": []
    },
    {
      "metadata": {
        "id": "7fCs3sM263bR",
        "colab_type": "text"
      },
      "cell_type": "markdown",
      "source": [
        "- Desgin a python function pi_mc(N, m) with\n",
        "  - Input: Two integer numbers $N$ and $m$\n",
        "  - Output: An array of length $m$, where all componets are independent, and computed from ordinary monte carlo method for $\\pi$ with $N$ simulations (random shots).\n",
        "- For $N \\in \\{2^n: n = 5, \\ldots, 10\\}$: Run pi_mc(N, 100) and find its variance\n",
        "- Plot log-log chart for $N \\to RMSE(N)$ using the array above and find convergence rate\n",
        "- Can you propose a deterministic approximation to $\\pi$?"
      ]
    },
    {
      "metadata": {
        "id": "uRRWcdOQ7nYt",
        "colab_type": "code",
        "colab": {}
      },
      "cell_type": "code",
      "source": [
        ""
      ],
      "execution_count": 0,
      "outputs": []
    }
  ]
}