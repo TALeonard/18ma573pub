{
  "nbformat": 4,
  "nbformat_minor": 0,
  "metadata": {
    "colab": {
      "name": "implied_vol.ipynb",
      "version": "0.3.2",
      "provenance": [],
      "include_colab_link": true
    },
    "kernelspec": {
      "name": "python3",
      "display_name": "Python 3"
    }
  },
  "cells": [
    {
      "cell_type": "markdown",
      "metadata": {
        "id": "view-in-github",
        "colab_type": "text"
      },
      "source": [
        "<a href=\"https://colab.research.google.com/github/songqsh/18ma573pub/blob/master/src/implied_vol.ipynb\" target=\"_parent\"><img src=\"https://colab.research.google.com/assets/colab-badge.svg\" alt=\"Open In Colab\"/></a>"
      ]
    },
    {
      "metadata": {
        "id": "9wAnvUp_XoFq",
        "colab_type": "text"
      },
      "cell_type": "markdown",
      "source": [
        "# Implied volatility\n",
        "\n",
        "## Abstract \n",
        "\n",
        "\n",
        "- We will introduce implied volatility and its computations"
      ]
    },
    {
      "metadata": {
        "id": "52JzYn6dYS1v",
        "colab_type": "text"
      },
      "cell_type": "markdown",
      "source": [
        "# Code"
      ]
    },
    {
      "metadata": {
        "id": "cXMmUpsLYR7_",
        "colab_type": "code",
        "colab": {}
      },
      "cell_type": "code",
      "source": [
        "'''======\n",
        "run once, then comment it off, and run again\n",
        "========'''\n",
        "#!git clone https://github.com/songqsh/18ma573pub.git \n",
        "pass"
      ],
      "execution_count": 0,
      "outputs": []
    },
    {
      "metadata": {
        "id": "GdMvygnhYruL",
        "colab_type": "text"
      },
      "cell_type": "markdown",
      "source": [
        "Change working directory"
      ]
    },
    {
      "metadata": {
        "id": "urPGEwOtXjeI",
        "colab_type": "code",
        "colab": {
          "base_uri": "https://localhost:8080/",
          "height": 34
        },
        "outputId": "66c61590-a990-47b5-e071-a0e9693c9db5"
      },
      "cell_type": "code",
      "source": [
        "cd 18ma573pub/src/"
      ],
      "execution_count": 4,
      "outputs": [
        {
          "output_type": "stream",
          "text": [
            "/content/18ma573pub/src\n"
          ],
          "name": "stdout"
        }
      ]
    },
    {
      "metadata": {
        "id": "brz5q9uDYjID",
        "colab_type": "code",
        "colab": {}
      },
      "cell_type": "code",
      "source": [
        "'''==========\n",
        "here we import our own python modules\n",
        "==================='''\n",
        "import european_options_class as eoc\n",
        "import sde_class as sde"
      ],
      "execution_count": 0,
      "outputs": []
    },
    {
      "metadata": {
        "id": "ZZiffae1a3vi",
        "colab_type": "code",
        "colab": {}
      },
      "cell_type": "code",
      "source": [
        "import matplotlib.pyplot as plt\n",
        "import numpy as np\n",
        "import scipy.optimize as so"
      ],
      "execution_count": 0,
      "outputs": []
    },
    {
      "metadata": {
        "id": "Gsr0FIxjZDoc",
        "colab_type": "code",
        "colab": {
          "base_uri": "https://localhost:8080/",
          "height": 51
        },
        "outputId": "a0e6c9ad-3e20-4d95-fb4a-5f0ecbaf3b1d"
      },
      "cell_type": "code",
      "source": [
        "'''===============\n",
        "Test bsm_price\n",
        "================='''\n",
        "gbm1 = sde.Gbm(init_state = 100.,\n",
        "                 drift_ratio = .0475,\n",
        "                 vol_ratio = .2)\n",
        "option1 = eoc.EuropeanOption(\n",
        "    otype = 1, # 1: 'call'\n",
        "              # -1: 'put'\n",
        "    strike = 110.,                \n",
        "    maturity = 1.\n",
        ")\n",
        "print('>>>>>>>call value is ' + str(gbm1.bsm_price(option1)))\n",
        "option2 = eoc.EuropeanOption(otype=-1)\n",
        "print('>>>>>>>>put value is ' + str(gbm1.bsm_price(option2)))\n"
      ],
      "execution_count": 18,
      "outputs": [
        {
          "output_type": "stream",
          "text": [
            ">>>>>>>call value is 5.943273183452838\n",
            ">>>>>>>>put value is 10.84042522804176\n"
          ],
          "name": "stdout"
        }
      ]
    },
    {
      "metadata": {
        "id": "B9lm4Ai9ZjgE",
        "colab_type": "text"
      },
      "cell_type": "markdown",
      "source": [
        "In the market, usually volatility (vol = 0.2 in the above) is not available, but market price (call = 5.94) for the option is available. One wants find a volatility such that associated BSM formula is equal to (fit) the market price. "
      ]
    },
    {
      "metadata": {
        "id": "uywHsh64ZR7u",
        "colab_type": "code",
        "colab": {}
      },
      "cell_type": "code",
      "source": [
        "'''==========\n",
        "define a method to seek for an implied volatility\n",
        "============'''\n",
        "\n",
        "def implied_volatility(spot_price, otype, maturity, strike, interest_rate, market_option_price):\n",
        "    option = eoc.EuropeanOption(otype, strike, maturity)\n",
        "    init_vol = .1 #initial guess\n",
        "    gbm = sde.Gbm(spot_price, interest_rate, init_vol)\n",
        "    \n",
        "    def error_function(vol):\n",
        "        gbm.vol_ratio = vol\n",
        "        return np.abs(market_option_price - gbm.bsm_price(option))\n",
        "    \n",
        "    return so.fmin(error_function, 0.1, disp = False)[0]"
      ],
      "execution_count": 0,
      "outputs": []
    },
    {
      "metadata": {
        "id": "ydhrW-b1aYWO",
        "colab_type": "code",
        "colab": {
          "base_uri": "https://localhost:8080/",
          "height": 51
        },
        "outputId": "fa92cac1-454b-49e1-da14-c622a0bbba58"
      },
      "cell_type": "code",
      "source": [
        "'''============\n",
        "test the implied_vol by reversing bsm_formula example in the above\n",
        "=============='''\n",
        "print('>>>>>>>>implied volatility is')\n",
        "implied_volatility(spot_price=100, otype=1, maturity=1, \n",
        "                   strike=110, interest_rate=.0475, market_option_price=5.94)"
      ],
      "execution_count": 22,
      "outputs": [
        {
          "output_type": "stream",
          "text": [
            ">>>>>>>>implied volatility is\n"
          ],
          "name": "stdout"
        },
        {
          "output_type": "execute_result",
          "data": {
            "text/plain": [
              "0.19992187500000036"
            ]
          },
          "metadata": {
            "tags": []
          },
          "execution_count": 22
        }
      ]
    },
    {
      "metadata": {
        "id": "X1fVkLHGac1s",
        "colab_type": "code",
        "colab": {}
      },
      "cell_type": "code",
      "source": [
        ""
      ],
      "execution_count": 0,
      "outputs": []
    }
  ]
}