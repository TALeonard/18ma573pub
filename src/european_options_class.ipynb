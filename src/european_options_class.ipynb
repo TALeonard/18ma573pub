{
  "nbformat": 4,
  "nbformat_minor": 0,
  "metadata": {
    "colab": {
      "name": "european_options_class.ipynb",
      "version": "0.3.2",
      "provenance": [],
      "include_colab_link": true
    },
    "kernelspec": {
      "name": "python3",
      "display_name": "Python 3"
    }
  },
  "cells": [
    {
      "cell_type": "markdown",
      "metadata": {
        "id": "view-in-github",
        "colab_type": "text"
      },
      "source": [
        "<a href=\"https://colab.research.google.com/github/songqsh/18ma573pub/blob/master/src/european_options_class.ipynb\" target=\"_parent\"><img src=\"https://colab.research.google.com/assets/colab-badge.svg\" alt=\"Open In Colab\"/></a>"
      ]
    },
    {
      "metadata": {
        "id": "eplzMXxaKsPg",
        "colab_type": "text"
      },
      "cell_type": "markdown",
      "source": [
        "# Abstract\n",
        "\n",
        "- Create european call/put  class\n",
        "- Analyse payoff structures of option combinations, such as writeen straddle and butterfly."
      ]
    },
    {
      "metadata": {
        "id": "iBhy7g4PLNZd",
        "colab_type": "text"
      },
      "cell_type": "markdown",
      "source": [
        "# Anal\n",
        "\n",
        "Payoff of European call with \n",
        "strike $K$ and exercise price $S$ is given as\n",
        "$$C(S, K)= (S - K)^+ = \\max\\{S- K, 0\\}.$$\n",
        "Similarly European put with \n",
        "strike $K$ and exercise price $S$ is given as\n",
        "$$P(S, K)= (S - K)^- = \\max\\{-S+ K, 0\\}.$$\n",
        "Traders use different option combinations according to market analysis to meet their various objectives. \n",
        "\n",
        "For instance, Written K-strike straddle is a portfolio of\n",
        "- selling K-strike call of one unit\n",
        "- selling K-strike put of one unit\n",
        "\n",
        "Butterfly with three stikes $K_1 < K_2 < K_3$ is the portfolio of\n",
        "- 1 unit of written K-strike straddle\n",
        "- 1 unit of purchased K-strike call\n",
        "- 1 unit of purchased K-strike put\n",
        "\n"
      ]
    },
    {
      "metadata": {
        "id": "OMBWh9sCNhWS",
        "colab_type": "text"
      },
      "cell_type": "markdown",
      "source": [
        "# Code\n",
        "\n",
        "First, we create call/put class"
      ]
    },
    {
      "metadata": {
        "id": "5Q4hhHJiNu4x",
        "colab_type": "code",
        "colab": {}
      },
      "cell_type": "code",
      "source": [
        "import numpy as np\n",
        "import matplotlib.pyplot as plt"
      ],
      "execution_count": 0,
      "outputs": []
    },
    {
      "metadata": {
        "id": "y3_HFpleLEMv",
        "colab_type": "code",
        "colab": {}
      },
      "cell_type": "code",
      "source": [
        "'''=========\n",
        "option class init\n",
        "=========='''\n",
        "class EuropeanOption:\n",
        "    def __init__(self,\n",
        "                otype = 1, # 1: 'call'\n",
        "                            # -1: 'put'\n",
        "                strike = 110.,\n",
        "                maturity = 1.\n",
        "                ):\n",
        "        self.otype = otype\n",
        "        self.strike = strike\n",
        "        self.maturity = maturity\n",
        "        \n",
        "    def payoff(self, s): #s: excercise price\n",
        "        otype = self.otype\n",
        "        k = self.strike\n",
        "        maturity = self.maturity\n",
        "        return np.max([0, (s - k)*otype])\n",
        "        "
      ],
      "execution_count": 0,
      "outputs": []
    },
    {
      "metadata": {
        "id": "a92eaPhnN9Kn",
        "colab_type": "text"
      },
      "cell_type": "markdown",
      "source": [
        "__Test__\n",
        "\n",
        "We will use a few examples to test the above class.\n",
        "\n",
        "__ex__\n",
        "\n",
        "plot payoff diagram of 40-strike call as a function of exercise price."
      ]
    },
    {
      "metadata": {
        "id": "WYmG-bBcN69W",
        "colab_type": "code",
        "colab": {
          "base_uri": "https://localhost:8080/",
          "height": 376
        },
        "outputId": "e93881ef-7c16-42f4-edfc-dc1c1a7a1089"
      },
      "cell_type": "code",
      "source": [
        "#create option instance, maturity is just arbitrarily given\n",
        "option1 = EuropeanOption(otype = 1, strike = 40, maturity= 1.) \n",
        "ss = np.arange(20,61) #exercise price\n",
        "payoff = [option1.payoff(s) for s in ss] #compute payoff\n",
        "plt.plot(ss, payoff)\n",
        "plt.xlabel('exercise price')\n",
        "plt.ylabel('payoff')\n",
        "plt.title('40-strike call')\n",
        "plt.show()"
      ],
      "execution_count": 26,
      "outputs": [
        {
          "output_type": "display_data",
          "data": {
            "image/png": "[encoded data removed]",
            "text/plain": [
              "<matplotlib.figure.Figure at 0x7f6c2e0404e0>"
            ]
          },
          "metadata": {
            "tags": []
          }
        }
      ]
    },
    {
      "metadata": {
        "id": "ey0GZpP3NqDP",
        "colab_type": "code",
        "colab": {}
      },
      "cell_type": "code",
      "source": [
        ""
      ],
      "execution_count": 0,
      "outputs": []
    },
    {
      "metadata": {
        "id": "YRgXQ89sPEn3",
        "colab_type": "code",
        "colab": {}
      },
      "cell_type": "code",
      "source": [
        ""
      ],
      "execution_count": 0,
      "outputs": []
    }
  ]
}