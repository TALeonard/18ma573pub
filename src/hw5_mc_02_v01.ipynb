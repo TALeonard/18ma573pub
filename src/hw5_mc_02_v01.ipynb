{
  "nbformat": 4,
  "nbformat_minor": 0,
  "metadata": {
    "colab": {
      "name": "hw5_mc_02_v01.ipynb",
      "version": "0.3.2",
      "provenance": [],
      "include_colab_link": true
    },
    "kernelspec": {
      "name": "python3",
      "display_name": "Python 3"
    }
  },
  "cells": [
    {
      "cell_type": "markdown",
      "metadata": {
        "id": "view-in-github",
        "colab_type": "text"
      },
      "source": [
        "<a href=\"https://colab.research.google.com/github/TALeonard/18ma573pub/blob/master/src/hw5_mc_02_v01.ipynb\" target=\"_parent\"><img src=\"https://colab.research.google.com/assets/colab-badge.svg\" alt=\"Open In Colab\"/></a>"
      ]
    },
    {
      "metadata": {
        "id": "GuTO-oa03fyc",
        "colab_type": "text"
      },
      "cell_type": "markdown",
      "source": [
        "#Assignment Outline\n",
        "- Desgin a python function pi_mc(N, m) with\n",
        "  - Input: Two integer numbers $N$ and $m$\n",
        "  - Output: An array of length $m$, where all componets are independent, and computed from ordinary monte carlo method for $\\pi$ with $N$ simulations (random shots).\n",
        "- For $N \\in \\{2^n: n = 5, \\ldots, 10\\}$: Run pi_mc(N, 100) and find its variance\n",
        "- Plot log-log chart for $N \\to RMSE(N)$ using the array above and find convergence rate\n",
        "- Can you propose a deterministic approximation to $\\pi$?"
      ]
    },
    {
      "metadata": {
        "id": "Hnu-FDdV3kP9",
        "colab_type": "text"
      },
      "cell_type": "markdown",
      "source": [
        "Given that we are not supplied with any restrictions on how to make the Monte Carlo method, I shall opt to use something similar to what was demonstrated in lecture. I shall have each simulation be a mapping of dots to the unit grid, and shall use the proportion of those which are present inside the unit circle to be my measure of pi. As usual, start by importing modules."
      ]
    },
    {
      "metadata": {
        "id": "-Sb_6LHh3d1D",
        "colab_type": "code",
        "colab": {}
      },
      "cell_type": "code",
      "source": [
        "%matplotlib inline\n",
        "import numpy as np\n",
        "from scipy import stats\n",
        "from scipy.stats import norm\n",
        "import matplotlib.pyplot as plt\n",
        "import seaborn as sns\n",
        "sns.set_style('white')\n",
        "sns.set_context('talk')"
      ],
      "execution_count": 0,
      "outputs": []
    },
    {
      "metadata": {
        "id": "BABSQ2FM4GQk",
        "colab_type": "code",
        "colab": {}
      },
      "cell_type": "code",
      "source": [
        "def pi_mc(N,m):\n",
        "  # Bounding box area\n",
        "  box_area = 4.0\n",
        "  \n",
        "  # Number of samples\n",
        "  N_total = N\n",
        "  \n",
        "  # Create vector to store outputs\n",
        "  output_array = []\n",
        "  \n",
        "  # Iterate the sequence m times.\n",
        "  for i in range(m):\n",
        "    # Draw random points uniformly between -1 and 1\n",
        "    X = np.random.uniform(low=-1, high=1, size=N_total)  \n",
        "    Y = np.random.uniform(low=-1, high=1, size=N_total)\n",
        "    \n",
        "    # Calculate distance from point to center to determine if point is inside the circle\n",
        "    distance = np.sqrt(X**2 + Y**2)\n",
        "    \n",
        "    # Check for whether the point is inside the circle\n",
        "    is_point_inside = distance<1.0\n",
        "    \n",
        "    # Count number of hits\n",
        "    N_inside = np.sum(is_point_inside)\n",
        "    \n",
        "    # Estimate of circle's area and append to output list\n",
        "    circle_area = box_area * N_inside/N_total\n",
        "    output_array.append(circle_area)\n",
        "  return output_array\n"
      ],
      "execution_count": 0,
      "outputs": []
    },
    {
      "metadata": {
        "id": "wXZTWj3C6Pk3",
        "colab_type": "text"
      },
      "cell_type": "markdown",
      "source": [
        "Now, let us test this with the first value in the set we wanted to consider, $2^{5}$."
      ]
    },
    {
      "metadata": {
        "id": "c0U41t9q6Unj",
        "colab_type": "code",
        "colab": {
          "base_uri": "https://localhost:8080/",
          "height": 34
        },
        "outputId": "e1bf3140-1325-4d07-ac7f-f829a9b9988f"
      },
      "cell_type": "code",
      "source": [
        "test_array_1 = np.asarray(pi_mc(2**5,100));\n",
        "test_array_1.mean()"
      ],
      "execution_count": 3,
      "outputs": [
        {
          "output_type": "execute_result",
          "data": {
            "text/plain": [
              "3.14125"
            ]
          },
          "metadata": {
            "tags": []
          },
          "execution_count": 3
        }
      ]
    },
    {
      "metadata": {
        "id": "tn06gRHU6vRk",
        "colab_type": "text"
      },
      "cell_type": "markdown",
      "source": [
        "To ensure that we're getting numbers that seem valid (as these are rather static but we are only using 32 simulations per output), check the high end value of $2^{10}=1,024$."
      ]
    },
    {
      "metadata": {
        "id": "iA0R8dhs7Tgo",
        "colab_type": "code",
        "colab": {
          "base_uri": "https://localhost:8080/",
          "height": 34
        },
        "outputId": "7a010453-cae4-49d8-d123-50374a1dc42e"
      },
      "cell_type": "code",
      "source": [
        "test_array_2 = np.asarray(pi_mc(2**10,100));\n",
        "test_array_2.mean()"
      ],
      "execution_count": 4,
      "outputs": [
        {
          "output_type": "execute_result",
          "data": {
            "text/plain": [
              "3.1473046875"
            ]
          },
          "metadata": {
            "tags": []
          },
          "execution_count": 4
        }
      ]
    },
    {
      "metadata": {
        "id": "FPVNy-fU7X0R",
        "colab_type": "text"
      },
      "cell_type": "markdown",
      "source": [
        "These seem to be operating relatively accurately. Thus, we will opt to find the variances now for $2^{n}, n \\in (5, \\cdots,10)$."
      ]
    },
    {
      "metadata": {
        "id": "44UwWfyn7xTB",
        "colab_type": "code",
        "colab": {
          "base_uri": "https://localhost:8080/",
          "height": 118
        },
        "outputId": "21bb82ba-91b3-4a61-cde5-ee26fa90bc03"
      },
      "cell_type": "code",
      "source": [
        "pi_array_2_to_5 = np.asarray(pi_mc(2**5,100));\n",
        "pi_array_2_to_6 = np.asarray(pi_mc(2**6,100));\n",
        "pi_array_2_to_7 = np.asarray(pi_mc(2**7,100));\n",
        "pi_array_2_to_8 = np.asarray(pi_mc(2**8,100));\n",
        "pi_array_2_to_9 = np.asarray(pi_mc(2**9,100));\n",
        "pi_array_2_to_10 = np.asarray(pi_mc(2**10,100));\n",
        "\n",
        "var_2_to_5 = np.var(pi_array_2_to_5);\n",
        "var_2_to_6 = np.var(pi_array_2_to_6);\n",
        "var_2_to_7 = np.var(pi_array_2_to_7);\n",
        "var_2_to_8 = np.var(pi_array_2_to_8);\n",
        "var_2_to_9 = np.var(pi_array_2_to_9);\n",
        "var_2_to_10 = np.var(pi_array_2_to_10);\n",
        "\n",
        "print(\"Variance for N = 2^5 is \"+str(var_2_to_5))\n",
        "print(\"Variance for N = 2^6 is \"+str(var_2_to_6))\n",
        "print(\"Variance for N = 2^7 is \"+str(var_2_to_7))\n",
        "print(\"Variance for N = 2^8 is \"+str(var_2_to_8))\n",
        "print(\"Variance for N = 2^9 is \"+str(var_2_to_9))\n",
        "print(\"Variance for N = 2^10 is \"+str(var_2_to_10))"
      ],
      "execution_count": 5,
      "outputs": [
        {
          "output_type": "stream",
          "text": [
            "Variance for N = 2^5 is 0.09030625000000002\n",
            "Variance for N = 2^6 is 0.03816250000000001\n",
            "Variance for N = 2^7 is 0.01904296875\n",
            "Variance for N = 2^8 is 0.0105041748046875\n",
            "Variance for N = 2^9 is 0.0057884765625000004\n",
            "Variance for N = 2^10 is 0.0033736328124999992\n"
          ],
          "name": "stdout"
        }
      ]
    },
    {
      "metadata": {
        "id": "eZ_Bvov984zd",
        "colab_type": "text"
      },
      "cell_type": "markdown",
      "source": [
        "We can see that as N increases, the variance gets smaller and smaller. Now, need to compute the values of $RMSE(N)$ in order to create the log-log chart. First, we define an RMSE function."
      ]
    },
    {
      "metadata": {
        "id": "fxnbyuFz-FEg",
        "colab_type": "code",
        "colab": {}
      },
      "cell_type": "code",
      "source": [
        "def rmse(predictions, act_vals):\n",
        "  # Default check: make sure both vectors are same length.\n",
        "  if len(predictions) == len(act_vals):\n",
        "    pass\n",
        "  else:\n",
        "    return(\"Inputs are not the same length.\")\n",
        "  # Produce difference between estimates and target values (actual value)\n",
        "  diff_vector = [predictions[i]-act_vals[i] for i in range(len(predictions))]\n",
        "  \n",
        "  # Take square of above values\n",
        "  diff_square = [diff_vector[i]**2 for i in range(len(diff_vector))]\n",
        "  \n",
        "  # Convert to array, find mean.\n",
        "  diff_array = np.asarray(diff_square)\n",
        "  diff_mean = diff_array.mean()\n",
        "  \n",
        "  # RMSE is square root of above mean value.\n",
        "  rmse = np.sqrt(diff_mean)\n",
        "  return rmse"
      ],
      "execution_count": 0,
      "outputs": []
    },
    {
      "metadata": {
        "id": "q2ZvyfXMApoN",
        "colab_type": "text"
      },
      "cell_type": "markdown",
      "source": [
        "Now, compute and graph RMSE for each N."
      ]
    },
    {
      "metadata": {
        "id": "Pv8GHQFm_Q6z",
        "colab_type": "code",
        "colab": {
          "base_uri": "https://localhost:8080/",
          "height": 476
        },
        "outputId": "6dfea65b-b165-4691-f7ea-ac500be88c20"
      },
      "cell_type": "code",
      "source": [
        "target_vector = []\n",
        "for i in range(100):\n",
        "  target_vector.append(np.pi)\n",
        "\n",
        "N_vector = [2**5, 2**6, 2**7, 2**8, 2**9, 2**10]\n",
        "RMSE_vector = [rmse(pi_array_2_to_5,target_vector),\n",
        "              rmse(pi_array_2_to_6,target_vector),\n",
        "              rmse(pi_array_2_to_7,target_vector),\n",
        "              rmse(pi_array_2_to_8,target_vector),\n",
        "              rmse(pi_array_2_to_9,target_vector),\n",
        "              rmse(pi_array_2_to_10,target_vector)]\n",
        "\n",
        "plt.plot(N_vector,RMSE_vector,label=\"RMSE of Pi Approximation\")\n",
        "plt.xlabel(\"N\")\n",
        "plt.ylabel(\"RMSE\")\n",
        "plt.legend()"
      ],
      "execution_count": 7,
      "outputs": [
        {
          "output_type": "execute_result",
          "data": {
            "text/plain": [
              "<matplotlib.legend.Legend at 0x7f8181565b38>"
            ]
          },
          "metadata": {
            "tags": []
          },
          "execution_count": 7
        },
        {
          "output_type": "display_data",
          "data": {
            "image/png": "[encoded data removed]",
            "text/plain": [
              "<Figure size 748.8x514.8 with 1 Axes>"
            ]
          },
          "metadata": {
            "tags": []
          }
        }
      ]
    },
    {
      "metadata": {
        "id": "0HhpIw4_BLnb",
        "colab_type": "text"
      },
      "cell_type": "markdown",
      "source": [
        "Now, we compute log-log values. Take the log of both the X and Y inputs into the above plt.plot() function."
      ]
    },
    {
      "metadata": {
        "id": "xP3xr05LCMTf",
        "colab_type": "code",
        "colab": {
          "base_uri": "https://localhost:8080/",
          "height": 476
        },
        "outputId": "35f95064-95fe-48d0-b166-d1847760f3ef"
      },
      "cell_type": "code",
      "source": [
        "nn = np.log2(N_vector)\n",
        "yy = np.log2(np.abs(RMSE_vector))\n",
        "\n",
        "plt.plot(nn,yy,label=\"Log-log plot of RMSE\")\n",
        "plt.xlabel(\"Log(N)\")\n",
        "plt.ylabel(\"Log(|RMSE|)\")\n",
        "plt.legend()"
      ],
      "execution_count": 8,
      "outputs": [
        {
          "output_type": "execute_result",
          "data": {
            "text/plain": [
              "<matplotlib.legend.Legend at 0x7f818156aa90>"
            ]
          },
          "metadata": {
            "tags": []
          },
          "execution_count": 8
        },
        {
          "output_type": "display_data",
          "data": {
            "image/png": "[encoded data removed]",
            "text/plain": [
              "<Figure size 748.8x514.8 with 1 Axes>"
            ]
          },
          "metadata": {
            "tags": []
          }
        }
      ]
    },
    {
      "metadata": {
        "id": "V6d6PVySEYhq",
        "colab_type": "text"
      },
      "cell_type": "markdown",
      "source": [
        "It's not a perfect line, but it's close. The non-linear aspect is likely due to randomness. Regress and identify convergence rate."
      ]
    },
    {
      "metadata": {
        "id": "_RfohT1EEKZn",
        "colab_type": "code",
        "colab": {
          "base_uri": "https://localhost:8080/",
          "height": 34
        },
        "outputId": "93b453a9-be30-4c12-f1ce-03150cd5f1c9"
      },
      "cell_type": "code",
      "source": [
        "import scipy.stats as ss\n",
        "out = ss.linregress(nn,yy)\n",
        "print('----->>>the convergence order is ' + str(-out[0]))"
      ],
      "execution_count": 9,
      "outputs": [
        {
          "output_type": "stream",
          "text": [
            "----->>>the convergence order is 0.46728250307188623\n"
          ],
          "name": "stdout"
        }
      ]
    }
  ]
}